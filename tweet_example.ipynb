{
 "cells": [
  {
   "cell_type": "code",
   "execution_count": 14,
   "metadata": {},
   "outputs": [],
   "source": [
    "import tweepy\n",
    "\n",
    "#auth = tweepy.OAuthHandler(\"158016724-8lwdW7xTJLeXbyr0IEfKmK55QmrsghPMeFtTmdlw\", \"7uilfQeiJWnoR1gRuY0r1cgOLIHMoNFQXfq8YY6GbBmor\")\n",
    "#auth.set_access_token(\"ASYb117Iv0m97NynpqZxtzAu2\", \"bFipZlb1VXnDKmzOaofievet19dSiDwAAutwb4MSGXL0ym4b54\")\n",
    "\n",
    "auth = tweepy.OAuthHandler(\"ASYb117Iv0m97NynpqZxtzAu2\", \"bFipZlb1VXnDKmzOaofievet19dSiDwAAutwb4MSGXL0ym4b54\")\n",
    "auth.set_access_token(\"158016724-8lwdW7xTJLeXbyr0IEfKmK55QmrsghPMeFtTmdlw\", \"7uilfQeiJWnoR1gRuY0r1cgOLIHMoNFQXfq8YY6GbBmor\")\n",
    "\n",
    "api = tweepy.API(auth)\n"
   ]
  },
  {
   "cell_type": "code",
   "execution_count": 15,
   "metadata": {},
   "outputs": [],
   "source": [
    "user = api.get_user('twitter')"
   ]
  },
  {
   "cell_type": "code",
   "execution_count": 17,
   "metadata": {},
   "outputs": [
    {
     "name": "stdout",
     "output_type": "stream",
     "text": [
      "U.S. Postal Service's plan to send 650 million face masks to Americans allegedly nixed by White House. https://t.co/QRriQTjA0P\n",
      "RT @WayneDupreeShow: I sat down with all the major unions and they support me - Joe Biden\n",
      "\n",
      "The police unions are supporting Trump, FYI. \n",
      "\n",
      "#…\n",
      "Naomi Osaka pulls out of French Open with hamstring injury https://t.co/RyODOYBOL6\n",
      "https://t.co/YfZmp1vXYD\n",
      "Biden says he's benefited from white privilege after Trump rejects idea he has in Woodward tapes https://t.co/c4Z01QZ1Ov\n",
      "The hottest names in gems aren't diamonds, rubies, or emeralds. Try grandidierite, peridots, and black opals https://t.co/WmDPoSZVhM\n",
      "Mexico's Cemex to redeem nearly $1 billion worth of senior bonds https://t.co/qQOfpkfbrs https://t.co/8wUhDVawiG\n",
      "RT @bhweingarten: Here’s the actual Joe Biden record on China. It ain’t pretty for the American people https://t.co/OgrSilUbnL\n",
      "Opinion: In Barr’s Bizarro World, politicizing criminal investigations is good https://t.co/v291iuMxu7 (via @latimesopinion)\n",
      "The United Kingdom is struggling with its coronavirus testing capacity as demand appears to be outstripping supply… https://t.co/ELrCKqR4mn\n",
      "TikTok is an engine of creativity—if you can stand hearing the same four or five songs over and over and over. https://t.co/SGLvJCu46G\n",
      "No, knives made from frozen human feces do not work https://t.co/Zv0N7pzTY2\n",
      "Democratic presidential nominee Joe Biden discussed an array of topics, including President Trump's response to the… https://t.co/Sb5mMOHF4t\n",
      "The Heat completed a 17-point comeback 💪\n",
      "\n",
      "It's Miami's largest playoff comeback since Game 4 of the 2012 Finals. https://t.co/iygFVQZw7M\n",
      "Today’s #TrunkNation replay coming up! 10-Mid ET with guests Noddy Holder of Slade &amp; @orianthi . @siriusxmvolume 10… https://t.co/nOyymvGBck\n",
      "RT @mattdizwhitlock: Another incredible @PolitiFact gaslight— they rated an ad “mostly false” for saying Biden told people he was going to…\n",
      "Only 20% of Americans want states to relax coronavirus restrictions https://t.co/zxYPqoDaaS\n",
      "RT @InaJaffeNPR: Families can visit loved ones in nursing homes again, both outdoors &amp; inside. Family members have seen their loved ones su…\n",
      "Jimmy Butler talks about the @MiamiHEAT's mentality late in games after another big comeback has them up 2-0 in the… https://t.co/GmrnTpRRdB\n",
      "RT @mmpadellan: #DemCast and BDD are mobilizing 15,000 volunteers in order to flip 14 STATES and create the BIGGEST Blue Wave landslide in…\n"
     ]
    }
   ],
   "source": [
    "public_tweets = api.home_timeline()\n",
    "for tweet in public_tweets:\n",
    "    print(tweet.text)"
   ]
  },
  {
   "cell_type": "code",
   "execution_count": 16,
   "metadata": {},
   "outputs": [
    {
     "name": "stdout",
     "output_type": "stream",
     "text": [
      "Twitter\n",
      "58318195\n",
      "OscarTheGrouch\n"
     ]
    }
   ],
   "source": [
    "print(user.screen_name)\n",
    "print(user.followers_count)\n",
    "for friend in user.friends():\n",
    "   print(friend.screen_name)"
   ]
  },
  {
   "cell_type": "code",
   "execution_count": null,
   "metadata": {},
   "outputs": [],
   "source": []
  }
 ],
 "metadata": {
  "kernelspec": {
   "display_name": "Python 3",
   "language": "python",
   "name": "python3"
  },
  "language_info": {
   "codemirror_mode": {
    "name": "ipython",
    "version": 3
   },
   "file_extension": ".py",
   "mimetype": "text/x-python",
   "name": "python",
   "nbconvert_exporter": "python",
   "pygments_lexer": "ipython3",
   "version": "3.8.5"
  }
 },
 "nbformat": 4,
 "nbformat_minor": 4
}
